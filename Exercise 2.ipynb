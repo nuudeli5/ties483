{
 "cells": [
  {
   "cell_type": "markdown",
   "metadata": {},
   "source": [
    "# Exercise 2\n",
    "* Due: 17.1. at noon\n",
    "* Max points: 8"
   ]
  },
  {
   "cell_type": "markdown",
   "metadata": {},
   "source": [
    "## General rules\n",
    "* Send the source code or the written notes of your answers as an attachment to jussi.hakanen@jyu.fi before the due time\n",
    "* You will get feedback about your answers a week from the due date\n",
    "* From the second week on, the exercises will be given on the previous Wednesday's lecture"
   ]
  },
  {
   "cell_type": "markdown",
   "metadata": {},
   "source": [
    "## Exercises\n",
    "\n",
    "1. **(2 points)** Assume that that you are buying and selling electricity. The more electricity you buy, the better price you get per kwH and the buying prize of electricity follows function $f(x) = 1-0.01x$, where $0\\leq x\\leq50$ is the amount of electricity you buy. On the other hand, the price that you get from selling electricity follows function $g(x) = 2-0.01x^2$ with $x$ again the amount of electricity that you sell. Formulate an optimization problem that maximizes the profit.\n",
    "2. **(2 points)** Use bisection search to optimize problem\n",
    "$$\n",
    "\\begin{align}\n",
    "\\min & (1-x)^2+x\\\\\n",
    "\\text{s.t. }&x\\in [0,2].\n",
    "\\end{align}\n",
    "$$\n",
    "Code the search algorithm by yourself, not use the one shown in the lecture material.\n",
    "3. **(2 points)** Use golden section search to optimize the problem from above exercise. Code the search algorithm by yourself, not use the one shown in the lecture material.\n",
    "4. **(2 points)** Use differentiation to optimize the optimization problem of exercise 1 and to verify the answer of optimization problem 2.\n"
   ]
  },
  {
   "cell_type": "code",
   "execution_count": 8,
   "metadata": {},
   "outputs": [
    {
     "name": "stdout",
     "output_type": "stream",
     "text": [
      "optimum is 0, function value is 1.0\n"
     ]
    }
   ],
   "source": [
    "def f(x):\n",
    "    return (2- (0.01*x**2)) - (1 - (0.01*x))\n",
    "\n",
    "\n",
    "def etsi(a,b,f,L):\n",
    "    x = a\n",
    "    while f(x)> f(x+L) and x+L<b:\n",
    "        x=x+L\n",
    "    return x\n",
    "\n",
    "x = etsi(0,50,f,1e-3)\n",
    "print(\"optimum is \"+ str(x) +\", function value is \" +str(f(x)))"
   ]
  },
  {
   "cell_type": "code",
   "execution_count": 34,
   "metadata": {},
   "outputs": [
    {
     "name": "stdout",
     "output_type": "stream",
     "text": [
      "0.500005\n"
     ]
    }
   ],
   "source": [
    "def f(x):\n",
    "    return (1-x)**2 + x\n",
    "\n",
    "def bisect(a,b,f,L,M):\n",
    "    x,y = a,b\n",
    "    while x-y<2*L:\n",
    "        if (f((x+y)/2+M) > f((x+y)/2-M)):\n",
    "            y = (x+y)/2 + M\n",
    "        else:\n",
    "            x = (x+y)/2 +M\n",
    "        return (x+y)/2\n",
    "\n",
    "x = bisect(0,2,f,1e-4,1e-5)\n",
    "print(str(x))"
   ]
  },
  {
   "cell_type": "code",
   "execution_count": null,
   "metadata": {},
   "outputs": [],
   "source": []
  },
  {
   "cell_type": "code",
   "execution_count": null,
   "metadata": {},
   "outputs": [],
   "source": []
  }
 ],
 "metadata": {
  "anaconda-cloud": {},
  "kernelspec": {
   "display_name": "Python 3",
   "language": "python",
   "name": "python3"
  },
  "language_info": {
   "codemirror_mode": {
    "name": "ipython",
    "version": 3
   },
   "file_extension": ".py",
   "mimetype": "text/x-python",
   "name": "python",
   "nbconvert_exporter": "python",
   "pygments_lexer": "ipython3",
   "version": "3.7.1"
  }
 },
 "nbformat": 4,
 "nbformat_minor": 1
}
