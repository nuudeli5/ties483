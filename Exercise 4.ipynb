{
 "cells": [
  {
   "cell_type": "code",
   "execution_count": null,
   "metadata": {},
   "outputs": [],
   "source": []
  },
  {
   "cell_type": "markdown",
   "metadata": {},
   "source": [
    "# Exercise 4\n",
    "* Due: 31.1.2019 at noon\n",
    "* Max points: 8"
   ]
  },
  {
   "cell_type": "markdown",
   "metadata": {},
   "source": [
    "## General rules\n",
    "* Send the source code or the written notes of your answers as an attachment to jussi.hakanen@jyu.fi before the due time\n",
    "* **Remember to add comments to your answers and include also some testing part!**\n",
    "* You will get feedback about your answers a week from the due date\n",
    "* From the second week on, the exercises will be given on the previous Wednesday's lecture"
   ]
  },
  {
   "cell_type": "markdown",
   "metadata": {},
   "source": [
    "## Exercises\n",
    "\n",
    "For exercises 1-3, we study optimization problem\n",
    "$$\n",
    "\\begin{align}\n",
    "\\min \\qquad & x_1^2+x_2^2 + x_1+2x_2\\\\\n",
    "\\text{s.t.}\\qquad &x_1+x_2=1\\\\\n",
    "    &x_1,x_2\\in\\mathbb R\n",
    "\\end{align}\n",
    "$$\n",
    "\n",
    "1. **(2 points)** Solve the problem using the penalty function method\n",
    "2. **(2 points)** Solve the problem (i.e., approximate the optimal solution) using the barrier function method. Note that you need to do something a bit clever.\n",
    "3. **(2 points)** Solve the problem using projected gradient method.\n",
    "4. **(2 points)** Check the *necessary first order KKT conditions* for the solution that you found."
   ]
  },
  {
   "cell_type": "code",
   "execution_count": 2,
   "metadata": {},
   "outputs": [
    {
     "name": "stdout",
     "output_type": "stream",
     "text": [
      "Optimization terminated successfully.\n",
      "         Current function value: 1.859453\n",
      "         Iterations: 60\n",
      "         Function evaluations: 116\n",
      "[0.74379964 0.24376445] penalty\n"
     ]
    }
   ],
   "source": [
    "from scipy.optimize import minimize\n",
    "\n",
    "#fuction and its rajoite\n",
    "def f(x):\n",
    "    return x[0]**2 + x[1]**2 + x[0] + 2*x[1], [], [x[0] + x[1] - 1]\n",
    "\n",
    "#Function that has been penalized\n",
    "def h(x,f,r):\n",
    "    return f(x)[0] + r*alpha(x,f)\n",
    "\n",
    "def alpha(x,f):\n",
    "    (_,ieq,eq) = f(x)\n",
    "    return sum([min([0,ieq_j])**2 for ieq_j in ieq])+sum([eq_k**2 for eq_k in eq])\n",
    "\n",
    "def penalty():\n",
    "    r= 100\n",
    "    pen = minimize (lambda x:h(x,f,r), # + r*(h(x)**2),\n",
    "    [0,0],method='Nelder-Mead',\n",
    "    options={'disp': True})\n",
    "    return pen.x\n",
    "\n",
    "\n",
    "print(penalty(), \"penalty\")"
   ]
  },
  {
   "cell_type": "code",
   "execution_count": null,
   "metadata": {},
   "outputs": [],
   "source": []
  },
  {
   "cell_type": "code",
   "execution_count": null,
   "metadata": {},
   "outputs": [],
   "source": []
  },
  {
   "cell_type": "code",
   "execution_count": null,
   "metadata": {},
   "outputs": [],
   "source": []
  }
 ],
 "metadata": {
  "anaconda-cloud": {},
  "kernelspec": {
   "display_name": "Python 3",
   "language": "python",
   "name": "python3"
  },
  "language_info": {
   "codemirror_mode": {
    "name": "ipython",
    "version": 3
   },
   "file_extension": ".py",
   "mimetype": "text/x-python",
   "name": "python",
   "nbconvert_exporter": "python",
   "pygments_lexer": "ipython3",
   "version": "3.7.1"
  }
 },
 "nbformat": 4,
 "nbformat_minor": 1
}
