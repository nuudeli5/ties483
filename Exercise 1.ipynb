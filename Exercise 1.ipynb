{
 "cells": [
  {
   "cell_type": "markdown",
   "metadata": {},
   "source": [
    "##### Exercise 1\n",
    "* Due: 12.1. at noon\n",
    "* Max points: 4"
   ]
  },
  {
   "cell_type": "markdown",
   "metadata": {},
   "source": [
    "## General rules\n",
    "* Send the source code or the written notes of your answers as an attachment to mohammad.tabatabaei@jyu.fi before the due time\n",
    "* You will get feedback about your answers a week from the due date\n",
    "* From the second week on, the exercises will be given on the previous Wednesday's lecture"
   ]
  },
  {
   "cell_type": "markdown",
   "metadata": {},
   "source": [
    "## Exercises\n",
    "1. **(2 points)** Implement on a language of your choice function that calculates a continuous approximation of the grade of this course. That is, the function takes as input the number of points received in the course and the maximal number of points and gives as output a value so that the integer part of that is the grade. For example, output would be of maximal points 20 and 13 points, could be 2.5, and, thus, the grade is 2. Note that you can make the function linear.\n",
    "2. **(2 points)** Make a script that finds the minimum number of points that gives a given grade. That is, your script should take as input the maximal numbef of points and the desired grade. Your solution has to call the function defined in exercise 1. "
   ]
  },
  {
   "cell_type": "code",
   "execution_count": 123,
   "metadata": {},
   "outputs": [
    {
     "name": "stdout",
     "output_type": "stream",
     "text": [
      "grade:  2.9999999999999996\n",
      "final grade:  3\n"
     ]
    }
   ],
   "source": [
    "def grade(x, y):\n",
    "    z = (y / x)\n",
    "    if z < 0.50:\n",
    "        grade = (z * 2)\n",
    "    else:\n",
    "        grade = (((((z - 0.50) * 10) + 1)))\n",
    "    print(\"grade: \", grade)\n",
    "    print(\"final grade: \", round(grade))\n",
    "\n",
    "    \n",
    "x = 20\n",
    "y = 14\n",
    "grade(x, y)"
   ]
  },
  {
   "cell_type": "code",
   "execution_count": null,
   "metadata": {},
   "outputs": [],
   "source": []
  },
  {
   "cell_type": "code",
   "execution_count": null,
   "metadata": {},
   "outputs": [],
   "source": []
  },
  {
   "cell_type": "code",
   "execution_count": null,
   "metadata": {},
   "outputs": [],
   "source": []
  }
 ],
 "metadata": {
  "anaconda-cloud": {},
  "kernelspec": {
   "display_name": "Python 3",
   "language": "python",
   "name": "python3"
  },
  "language_info": {
   "codemirror_mode": {
    "name": "ipython",
    "version": 3
   },
   "file_extension": ".py",
   "mimetype": "text/x-python",
   "name": "python",
   "nbconvert_exporter": "python",
   "pygments_lexer": "ipython3",
   "version": "3.7.1"
  }
 },
 "nbformat": 4,
 "nbformat_minor": 1
}
